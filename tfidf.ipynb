{
  "nbformat": 4,
  "nbformat_minor": 0,
  "metadata": {
    "colab": {
      "provenance": []
    },
    "kernelspec": {
      "name": "python3",
      "display_name": "Python 3"
    },
    "language_info": {
      "name": "python"
    }
  },
  "cells": [
    {
      "cell_type": "code",
      "source": [
        "!pip install scikit-learn"
      ],
      "metadata": {
        "colab": {
          "base_uri": "https://localhost:8080/"
        },
        "id": "9bAV0anWjia7",
        "outputId": "e074e5ca-2ffe-466c-db5b-1e9c78eb616d"
      },
      "execution_count": 2,
      "outputs": [
        {
          "output_type": "stream",
          "name": "stdout",
          "text": [
            "Requirement already satisfied: scikit-learn in /usr/local/lib/python3.10/dist-packages (1.2.2)\n",
            "Requirement already satisfied: numpy>=1.17.3 in /usr/local/lib/python3.10/dist-packages (from scikit-learn) (1.23.5)\n",
            "Requirement already satisfied: scipy>=1.3.2 in /usr/local/lib/python3.10/dist-packages (from scikit-learn) (1.11.4)\n",
            "Requirement already satisfied: joblib>=1.1.1 in /usr/local/lib/python3.10/dist-packages (from scikit-learn) (1.3.2)\n",
            "Requirement already satisfied: threadpoolctl>=2.0.0 in /usr/local/lib/python3.10/dist-packages (from scikit-learn) (3.2.0)\n"
          ]
        }
      ]
    },
    {
      "cell_type": "code",
      "source": [
        "from sklearn.feature_extraction.text import TfidfVectorizer\n",
        "from sklearn.metrics.pairwise import linear_kernel\n",
        "from sklearn.metrics import precision_score, recall_score\n",
        "from sklearn.model_selection import train_test_split\n",
        "import pandas as pd\n",
        "\n",
        "# Data contoh (gantilah dengan data destinasi wisata sebenarnya)\n",
        "data = {\n",
        "    'Destinasi': ['Bali', 'Yogyakarta', 'Lombok', 'Bandung', 'Malang'],\n",
        "    'Deskripsi': [\n",
        "        'Pulau eksotis dengan pantai indah dan budaya yang kaya.',\n",
        "        'Kota seni dengan candi-candi bersejarah.',\n",
        "        'Pulau cantik dengan pantai putih dan Gili Trawangan.',\n",
        "        'Kota kreatif dengan alam indah dan kuliner lezat.',\n",
        "        'Kota sejuk dengan pegunungan dan air terjun.'\n",
        "    ]\n",
        "}\n",
        "\n",
        "df = pd.DataFrame(data)\n",
        "\n",
        "# TF-IDF Vectorizer\n",
        "tfidf_vectorizer = TfidfVectorizer(stop_words='english')\n",
        "tfidf_matrix = tfidf_vectorizer.fit_transform(df['Deskripsi'])\n",
        "\n",
        "# Similarity matrix\n",
        "cosine_sim = linear_kernel(tfidf_matrix, tfidf_matrix)\n",
        "\n",
        "# Fungsi rekomendasi\n",
        "def recommend_destination(destination, cosine_sim=cosine_sim):\n",
        "    idx = df[df['Destinasi'] == destination].index[0]\n",
        "    sim_scores = list(enumerate(cosine_sim[idx]))\n",
        "    sim_scores = sorted(sim_scores, key=lambda x: x[1], reverse=True)\n",
        "    sim_scores = sim_scores[1:4]  # Ambil 3 destinasi teratas (indeks 1-3)\n",
        "    destination_indices = [i[0] for i in sim_scores]\n",
        "    return df['Destinasi'].iloc[destination_indices]\n",
        "\n",
        "# Uji sistem rekomendasi\n",
        "test_destination = 'Lombok'\n",
        "recommended_destinations = recommend_destination(test_destination)\n",
        "\n",
        "# Data uji untuk precision dan recall\n",
        "y_true = [1, 0, 1, 0, 0]  # 1: relevan, 0: tidak relevan\n",
        "y_pred = [1 if dest in recommended_destinations.values else 0 for dest in df['Destinasi']]\n",
        "\n",
        "# Hitung precision dan recall\n",
        "precision = precision_score(y_true, y_pred)\n",
        "recall = recall_score(y_true, y_pred)\n",
        "\n",
        "# Tampilkan hasil\n",
        "print(f\"Rekomendasi untuk {test_destination}: {recommended_destinations.values}\")\n",
        "print(f\"Precision: {precision:.2f}\")\n",
        "print(f\"Recall: {recall:.2f}\")\n"
      ],
      "metadata": {
        "colab": {
          "base_uri": "https://localhost:8080/"
        },
        "id": "dvYNSN_8jvm7",
        "outputId": "e8ea8597-6fb5-4b59-c366-cfebd6802aeb"
      },
      "execution_count": 42,
      "outputs": [
        {
          "output_type": "stream",
          "name": "stdout",
          "text": [
            "Rekomendasi untuk Lombok: ['Bali' 'Malang' 'Bandung']\n",
            "Precision: 0.33\n",
            "Recall: 0.50\n"
          ]
        }
      ]
    }
  ]
}