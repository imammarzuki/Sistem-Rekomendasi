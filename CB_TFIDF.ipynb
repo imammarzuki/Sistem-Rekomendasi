{
  "nbformat": 4,
  "nbformat_minor": 0,
  "metadata": {
    "colab": {
      "provenance": []
    },
    "kernelspec": {
      "name": "python3",
      "display_name": "Python 3"
    },
    "language_info": {
      "name": "python"
    }
  },
  "cells": [
    {
      "cell_type": "code",
      "source": [
        "!pip install scikit-learn"
      ],
      "metadata": {
        "colab": {
          "base_uri": "https://localhost:8080/"
        },
        "id": "9bAV0anWjia7",
        "outputId": "6b799ad3-c5f8-4391-8b89-9638d1522f34"
      },
      "execution_count": 14,
      "outputs": [
        {
          "output_type": "stream",
          "name": "stdout",
          "text": [
            "Requirement already satisfied: scikit-learn in /usr/local/lib/python3.10/dist-packages (1.2.2)\n",
            "Requirement already satisfied: numpy>=1.17.3 in /usr/local/lib/python3.10/dist-packages (from scikit-learn) (1.23.5)\n",
            "Requirement already satisfied: scipy>=1.3.2 in /usr/local/lib/python3.10/dist-packages (from scikit-learn) (1.11.4)\n",
            "Requirement already satisfied: joblib>=1.1.1 in /usr/local/lib/python3.10/dist-packages (from scikit-learn) (1.3.2)\n",
            "Requirement already satisfied: threadpoolctl>=2.0.0 in /usr/local/lib/python3.10/dist-packages (from scikit-learn) (3.2.0)\n"
          ]
        }
      ]
    },
    {
      "cell_type": "code",
      "source": [
        "import pandas as pd\n",
        "from sklearn.feature_extraction.text import TfidfVectorizer\n",
        "from sklearn.metrics.pairwise import linear_kernel\n",
        "\n",
        "# Contoh data destinasi wisata\n",
        "data = {\n",
        "    'Destinasi': ['Pantai Kuta', 'Gunung Bromo', 'Candi Borobudur', 'Taman Nasional Komodo'],\n",
        "    'Deskripsi': [\n",
        "        'Pantai indah di Bali dengan pasir putih dan ombak besar.',\n",
        "        'Gunung berapi aktif di Jawa Timur dengan pemandangan luar biasa.',\n",
        "        'Candi Buddha megah di Jawa Tengah, salah satu warisan dunia.',\n",
        "        'Taman nasional yang menjadi rumah bagi komodo, reptil langka.'\n",
        "    ]\n",
        "}\n",
        "\n",
        "df = pd.DataFrame(data)\n",
        "\n",
        "# Menggunakan TF-IDF untuk menganalisis kesamaan antar destinasi berdasarkan deskripsi\n",
        "tfidf_vectorizer = TfidfVectorizer(stop_words='english')\n",
        "tfidf_matrix = tfidf_vectorizer.fit_transform(df['Deskripsi'])\n",
        "\n",
        "# Menghitung kesamaan antar destinasi dengan cosine similarity\n",
        "cosine_sim = linear_kernel(tfidf_matrix, tfidf_matrix)\n",
        "\n",
        "# Fungsi untuk mendapatkan rekomendasi destinasi berdasarkan nama destinasi\n",
        "def get_recommendations(destination, cosine_sim=cosine_sim):\n",
        "    idx = df.index[df['Destinasi'] == destination].tolist()[0]\n",
        "    sim_scores = list(enumerate(cosine_sim[idx]))\n",
        "    sim_scores = sorted(sim_scores, key=lambda x: x[1], reverse=True)\n",
        "    sim_scores = sim_scores[1:4]  # Ambil 3 destinasi teratas (dapat disesuaikan)\n",
        "    destination_indices = [i[0] for i in sim_scores]\n",
        "    return df['Destinasi'].iloc[destination_indices]\n",
        "\n",
        "# Contoh penggunaan\n",
        "destination_name = 'Pantai Kuta'\n",
        "recommended_destinations = get_recommendations(destination_name)\n",
        "\n",
        "print(f\"Rekomendasi destinasi wisata untuk {destination_name}:\")\n",
        "print(recommended_destinations)\n"
      ],
      "metadata": {
        "colab": {
          "base_uri": "https://localhost:8080/"
        },
        "id": "dvYNSN_8jvm7",
        "outputId": "0dcf0760-7570-4546-d134-aa1b009221b0"
      },
      "execution_count": 15,
      "outputs": [
        {
          "output_type": "stream",
          "name": "stdout",
          "text": [
            "Rekomendasi destinasi wisata untuk Pantai Kuta:\n",
            "1             Gunung Bromo\n",
            "2          Candi Borobudur\n",
            "3    Taman Nasional Komodo\n",
            "Name: Destinasi, dtype: object\n"
          ]
        }
      ]
    }
  ]
}