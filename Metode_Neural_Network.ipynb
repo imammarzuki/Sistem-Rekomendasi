{
  "nbformat": 4,
  "nbformat_minor": 0,
  "metadata": {
    "colab": {
      "provenance": []
    },
    "kernelspec": {
      "name": "python3",
      "display_name": "Python 3"
    },
    "language_info": {
      "name": "python"
    }
  },
  "cells": [
    {
      "cell_type": "code",
      "execution_count": 2,
      "metadata": {
        "colab": {
          "base_uri": "https://localhost:8080/"
        },
        "id": "myHZuccMUhAT",
        "outputId": "b819bd67-4809-4fcd-ec3e-6d15f3c69b80"
      },
      "outputs": [
        {
          "output_type": "stream",
          "name": "stderr",
          "text": [
            "WARNING:absl:`lr` is deprecated in Keras optimizer, please use `learning_rate` or use the legacy optimizer, e.g.,tf.keras.optimizers.legacy.Adam.\n"
          ]
        },
        {
          "output_type": "stream",
          "name": "stdout",
          "text": [
            "Epoch 1/10\n",
            "20/20 [==============================] - 1s 12ms/step - loss: 3.5675 - val_loss: 3.4679\n",
            "Epoch 2/10\n",
            "20/20 [==============================] - 0s 4ms/step - loss: 3.1544 - val_loss: 3.0986\n",
            "Epoch 3/10\n",
            "20/20 [==============================] - 0s 5ms/step - loss: 3.0739 - val_loss: 4.1143\n",
            "Epoch 4/10\n",
            "20/20 [==============================] - 0s 3ms/step - loss: 3.3168 - val_loss: 3.1105\n",
            "Epoch 5/10\n",
            "20/20 [==============================] - 0s 4ms/step - loss: 2.9644 - val_loss: 2.9669\n",
            "Epoch 6/10\n",
            "20/20 [==============================] - 0s 4ms/step - loss: 2.8476 - val_loss: 2.8749\n",
            "Epoch 7/10\n",
            "20/20 [==============================] - 0s 3ms/step - loss: 2.7107 - val_loss: 2.8032\n",
            "Epoch 8/10\n",
            "20/20 [==============================] - 0s 4ms/step - loss: 2.8001 - val_loss: 2.9635\n",
            "Epoch 9/10\n",
            "20/20 [==============================] - 0s 4ms/step - loss: 2.8372 - val_loss: 2.7724\n",
            "Epoch 10/10\n",
            "20/20 [==============================] - 0s 5ms/step - loss: 2.6287 - val_loss: 3.1234\n",
            "7/7 [==============================] - 0s 3ms/step\n",
            "MAE on test set: 1.556233549118042\n",
            "RMSE on test set: 1.8390008363738717\n"
          ]
        }
      ],
      "source": [
        "import numpy as np\n",
        "import pandas as pd\n",
        "from sklearn.model_selection import train_test_split\n",
        "from sklearn.metrics import mean_absolute_error, mean_squared_error\n",
        "from tensorflow.keras.models import Model\n",
        "from tensorflow.keras.layers import Input, Dense, Concatenate\n",
        "from tensorflow.keras.optimizers import Adam\n",
        "from sklearn.preprocessing import LabelEncoder\n",
        "\n",
        "# Misalkan Anda memiliki dataset dalam bentuk DataFrame pandas dengan kolom 'user', 'item', dan 'rating'\n",
        "# Contoh dataset dummy:\n",
        "data = {'user': np.random.randint(1, 100, 1000),\n",
        "        'item': np.random.randint(1, 50, 1000),\n",
        "        'rating': np.random.randint(1, 6, 1000)}\n",
        "df = pd.DataFrame(data)\n",
        "\n",
        "# Label encoding untuk kolom 'user' dan 'item'\n",
        "user_encoder = LabelEncoder()\n",
        "item_encoder = LabelEncoder()\n",
        "df['user'] = user_encoder.fit_transform(df['user'])\n",
        "df['item'] = item_encoder.fit_transform(df['item'])\n",
        "\n",
        "# Membagi dataset menjadi set pelatihan dan validasi\n",
        "train, test = train_test_split(df, test_size=0.2, random_state=42)\n",
        "\n",
        "# Menentukan jumlah pengguna dan item serta ukuran embedding\n",
        "n_users = df['user'].nunique()\n",
        "n_items = df['item'].nunique()\n",
        "\n",
        "# Model Neural Network (NN)\n",
        "user_input = Input(shape=(1,), name='user_input')\n",
        "item_input = Input(shape=(1,), name='item_input')\n",
        "\n",
        "user_embedding = Dense(64, activation='relu')(user_input)\n",
        "item_embedding = Dense(64, activation='relu')(item_input)\n",
        "\n",
        "merged_vector = Concatenate()([user_embedding, item_embedding])\n",
        "dense_layer = Dense(64, activation='relu')(merged_vector)\n",
        "output_layer_nn = Dense(1, activation='linear', name='output_nn')(dense_layer)\n",
        "\n",
        "nn_model = Model(inputs=[user_input, item_input], outputs=output_layer_nn)\n",
        "nn_model.compile(optimizer=Adam(lr=0.001), loss='mean_squared_error')\n",
        "\n",
        "# Melatih model\n",
        "nn_model.fit([train['user'], train['item']], train['rating'], batch_size=32, epochs=10, validation_split=0.2)\n",
        "\n",
        "# Memprediksi rating pada set validasi\n",
        "predictions = nn_model.predict([test['user'], test['item']])\n",
        "\n",
        "# Mengukur kinerja model menggunakan MAE dan RMSE\n",
        "mae = mean_absolute_error(test['rating'], predictions)\n",
        "rmse = np.sqrt(mean_squared_error(test['rating'], predictions))\n",
        "\n",
        "print(f'MAE on test set: {mae}')\n",
        "print(f'RMSE on test set: {rmse}')\n"
      ]
    }
  ]
}