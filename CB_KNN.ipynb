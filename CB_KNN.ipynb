{
  "nbformat": 4,
  "nbformat_minor": 0,
  "metadata": {
    "colab": {
      "provenance": []
    },
    "kernelspec": {
      "name": "python3",
      "display_name": "Python 3"
    },
    "language_info": {
      "name": "python"
    }
  },
  "cells": [
    {
      "cell_type": "code",
      "source": [
        "!pip install scikit-learn"
      ],
      "metadata": {
        "colab": {
          "base_uri": "https://localhost:8080/"
        },
        "id": "9bAV0anWjia7",
        "outputId": "6b799ad3-c5f8-4391-8b89-9638d1522f34"
      },
      "execution_count": 14,
      "outputs": [
        {
          "output_type": "stream",
          "name": "stdout",
          "text": [
            "Requirement already satisfied: scikit-learn in /usr/local/lib/python3.10/dist-packages (1.2.2)\n",
            "Requirement already satisfied: numpy>=1.17.3 in /usr/local/lib/python3.10/dist-packages (from scikit-learn) (1.23.5)\n",
            "Requirement already satisfied: scipy>=1.3.2 in /usr/local/lib/python3.10/dist-packages (from scikit-learn) (1.11.4)\n",
            "Requirement already satisfied: joblib>=1.1.1 in /usr/local/lib/python3.10/dist-packages (from scikit-learn) (1.3.2)\n",
            "Requirement already satisfied: threadpoolctl>=2.0.0 in /usr/local/lib/python3.10/dist-packages (from scikit-learn) (3.2.0)\n"
          ]
        }
      ]
    },
    {
      "cell_type": "code",
      "source": [
        "import pandas as pd\n",
        "from sklearn.feature_extraction.text import TfidfVectorizer\n",
        "from sklearn.metrics.pairwise import linear_kernel\n",
        "\n",
        "# Data destinasi wisata\n",
        "data = {\n",
        "    'Destinasi': ['Bali', 'Yogyakarta', 'Bandung', 'Malang', 'Lombok'],\n",
        "    'Deskripsi': [\n",
        "        'Pulau eksotis dengan pantai indah dan budaya yang kaya.',\n",
        "        'Kota pelajar dengan sejarah dan keindahan alam yang menarik.',\n",
        "        'Kota kreatif dengan nuansa vintage dan kuliner lezat.',\n",
        "        'Kota sejuk dengan pemandangan indah dan wisata alam.',\n",
        "        'Pulau cantik dengan pantai berpasir putih dan pemandangan menakjubkan.'\n",
        "    ]\n",
        "}\n",
        "\n",
        "df = pd.DataFrame(data)\n",
        "\n",
        "# Menghitung TF-IDF dari deskripsi destinasi\n",
        "tfidf_vectorizer = TfidfVectorizer(stop_words='english')\n",
        "tfidf_matrix = tfidf_vectorizer.fit_transform(df['Deskripsi'])\n",
        "\n",
        "# Menghitung similaritas antar destinasi menggunakan KNN\n",
        "cosine_similarities = linear_kernel(tfidf_matrix, tfidf_matrix)\n",
        "\n",
        "# Fungsi untuk mendapatkan rekomendasi destinasi\n",
        "def get_recommendations(destinasi, cosine_similarities, df):\n",
        "    dest_index = df[df['Destinasi'] == destinasi].index[0]\n",
        "    similar_destinations = list(enumerate(cosine_similarities[dest_index]))\n",
        "    sorted_destinations = sorted(similar_destinations, key=lambda x: x[1], reverse=True)\n",
        "    recommended_destinations = [df['Destinasi'][i[0]] for i in sorted_destinations[1:3]]  # Ambil 2 destinasi teratas\n",
        "    return recommended_destinations\n",
        "\n",
        "# Contoh penggunaan\n",
        "input_destinasi = 'Bali'\n",
        "recommendations = get_recommendations(input_destinasi, cosine_similarities, df)\n",
        "\n",
        "print(f\"Rekomendasi destinasi wisata untuk {input_destinasi}: {recommendations}\")\n"
      ],
      "metadata": {
        "colab": {
          "base_uri": "https://localhost:8080/"
        },
        "id": "dvYNSN_8jvm7",
        "outputId": "0bff61e2-7247-4727-80ab-ea5784587d1b"
      },
      "execution_count": 16,
      "outputs": [
        {
          "output_type": "stream",
          "name": "stdout",
          "text": [
            "Rekomendasi destinasi wisata untuk Bali: ['Lombok', 'Malang']\n"
          ]
        }
      ]
    }
  ]
}