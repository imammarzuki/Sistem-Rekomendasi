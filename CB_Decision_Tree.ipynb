{
  "nbformat": 4,
  "nbformat_minor": 0,
  "metadata": {
    "colab": {
      "provenance": []
    },
    "kernelspec": {
      "name": "python3",
      "display_name": "Python 3"
    },
    "language_info": {
      "name": "python"
    }
  },
  "cells": [
    {
      "cell_type": "code",
      "source": [
        "!pip install scikit-learn"
      ],
      "metadata": {
        "colab": {
          "base_uri": "https://localhost:8080/"
        },
        "id": "9bAV0anWjia7",
        "outputId": "28133cc7-6fb6-47b7-8990-5e48c37f3fc1"
      },
      "execution_count": 17,
      "outputs": [
        {
          "output_type": "stream",
          "name": "stdout",
          "text": [
            "Requirement already satisfied: scikit-learn in /usr/local/lib/python3.10/dist-packages (1.2.2)\n",
            "Requirement already satisfied: numpy>=1.17.3 in /usr/local/lib/python3.10/dist-packages (from scikit-learn) (1.23.5)\n",
            "Requirement already satisfied: scipy>=1.3.2 in /usr/local/lib/python3.10/dist-packages (from scikit-learn) (1.11.4)\n",
            "Requirement already satisfied: joblib>=1.1.1 in /usr/local/lib/python3.10/dist-packages (from scikit-learn) (1.3.2)\n",
            "Requirement already satisfied: threadpoolctl>=2.0.0 in /usr/local/lib/python3.10/dist-packages (from scikit-learn) (3.2.0)\n"
          ]
        }
      ]
    },
    {
      "cell_type": "code",
      "source": [
        "from sklearn.feature_extraction.text import TfidfVectorizer\n",
        "from sklearn.tree import DecisionTreeClassifier\n",
        "from sklearn.model_selection import train_test_split\n",
        "from sklearn.metrics import accuracy_score\n",
        "\n",
        "# Data\n",
        "data = {\n",
        "    'Destinasi': ['Bali', 'Yogyakarta', 'Bandung', 'Malang', 'Lombok'],\n",
        "    'Deskripsi': [\n",
        "        'Pulau eksotis dengan pantai indah dan budaya yang kaya.',\n",
        "        'Kota pelajar dengan sejarah dan keindahan alam yang menarik.',\n",
        "        'Kota kreatif dengan nuansa vintage dan kuliner lezat.',\n",
        "        'Kota sejuk dengan pemandangan indah dan wisata alam.',\n",
        "        'Pulau cantik dengan pantai berpasir putih dan pemandangan menakjubkan.'\n",
        "    ]\n",
        "}\n",
        "\n",
        "# Membuat dataframe dari data\n",
        "import pandas as pd\n",
        "df = pd.DataFrame(data)\n",
        "\n",
        "# Menggabungkan kolom Deskripsi ke dalam satu kolom teks\n",
        "df['Teks'] = df['Destinasi'] + ' ' + df['Deskripsi']\n",
        "\n",
        "# Membuat vektor TF-IDF dari teks\n",
        "vectorizer = TfidfVectorizer(stop_words='english')\n",
        "X = vectorizer.fit_transform(df['Teks'])\n",
        "\n",
        "# Label destinasi sebagai target\n",
        "y = df['Destinasi']\n",
        "\n",
        "# Membagi data menjadi data latih dan data uji\n",
        "X_train, X_test, y_train, y_test = train_test_split(X, y, test_size=0.2, random_state=42)\n",
        "\n",
        "# Membangun model Decision Tree\n",
        "model = DecisionTreeClassifier()\n",
        "model.fit(X_train, y_train)\n",
        "\n",
        "# Memprediksi destinasi untuk data uji\n",
        "y_pred = model.predict(X_test)\n",
        "\n",
        "# Menghitung akurasi\n",
        "accuracy = accuracy_score(y_test, y_pred)\n",
        "print(f'Akurasi model: {accuracy * 100:.2f}%')\n",
        "\n",
        "# Fungsi untuk memberikan rekomendasi destinasi berdasarkan deskripsi\n",
        "def recommend_destination(description):\n",
        "    # Menggabungkan deskripsi dengan destinasi untuk memprediksi destinasi\n",
        "    text = f'Tujuan {description}'\n",
        "    text_transformed = vectorizer.transform([text])\n",
        "    predicted_destination = model.predict(text_transformed)\n",
        "    return predicted_destination[0]\n",
        "\n",
        "# Contoh penggunaan fungsi rekomendasi\n",
        "description_input = 'Pantai indah '\n",
        "recommended_destination = recommend_destination(description_input)\n",
        "print(f'Rekomendasi destinasi untuk \"{description_input}\": {recommended_destination}')\n"
      ],
      "metadata": {
        "colab": {
          "base_uri": "https://localhost:8080/"
        },
        "id": "dvYNSN_8jvm7",
        "outputId": "be9f73cc-6cf3-4024-a0ef-6e2fde52b9a9"
      },
      "execution_count": 63,
      "outputs": [
        {
          "output_type": "stream",
          "name": "stdout",
          "text": [
            "Akurasi model: 0.00%\n",
            "Rekomendasi destinasi untuk \"Pantai indah \": Bandung\n"
          ]
        }
      ]
    }
  ]
}